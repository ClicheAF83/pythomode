{
 "cells": [
  {
   "cell_type": "code",
   "execution_count": 3,
   "id": "97b176ec",
   "metadata": {},
   "outputs": [
    {
     "name": "stdout",
     "output_type": "stream",
     "text": [
      "[10, 15, 20, 30, 40, 50, 60]\n",
      "The index of 30 in my list is 3\n"
     ]
    }
   ],
   "source": [
    "#creating an empty list\n",
    "my_list = []\n",
    "#appending to the empty list\n",
    "my_list.append(10)\n",
    "my_list.append(20)\n",
    "my_list.append(30)\n",
    "my_list.append(40)\n",
    "#adding 15 to index 1\n",
    "my_list.insert(1, 15)\n",
    "#extending the list\n",
    "my_list.extend([50,60,70])\n",
    "#removing the last item\n",
    "my_list.pop()\n",
    "#sort in ascending order\n",
    "my_list.sort()\n",
    "print(my_list)\n",
    "#find the index of 30\n",
    "index_30 = my_list.index(30)\n",
    "#print the index of 30\n",
    "print(f'The index of 30 in my list is {index_30}')"
   ]
  },
  {
   "cell_type": "code",
   "execution_count": null,
   "id": "8eb26227",
   "metadata": {},
   "outputs": [],
   "source": []
  }
 ],
 "metadata": {
  "kernelspec": {
   "display_name": "Python 3 (ipykernel)",
   "language": "python",
   "name": "python3"
  },
  "language_info": {
   "codemirror_mode": {
    "name": "ipython",
    "version": 3
   },
   "file_extension": ".py",
   "mimetype": "text/x-python",
   "name": "python",
   "nbconvert_exporter": "python",
   "pygments_lexer": "ipython3",
   "version": "3.10.9"
  }
 },
 "nbformat": 4,
 "nbformat_minor": 5
}
